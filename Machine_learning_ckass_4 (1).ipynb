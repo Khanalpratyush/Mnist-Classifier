{
    "metadata": {
        "kernelspec": {
            "name": "python3",
            "display_name": "Python 3",
            "language": ""
        }
    },
    "nbformat": 4,
    "nbformat_minor": 0,
    "cells": [
        {
            "cell_type": "code",
            "execution_count": 2,
            "metadata": {},
            "outputs": [],
            "source": [
                "import numpy as np\n",
                "import pandas as pd\n",
                "import matplotlib.pyplot as plt\n",
                "import sklearn"
            ]
        },
        {
            "attachments": {},
            "cell_type": "markdown",
            "metadata": {},
            "source": [
                ""
            ]
        },
        {
            "cell_type": "code",
            "execution_count": 3,
            "metadata": {},
            "outputs": [],
            "source": [
                "from sklearn.datasets import fetch_openml\n",
                ""
            ]
        },
        {
            "cell_type": "code",
            "execution_count": 4,
            "metadata": {},
            "outputs": [
                {
                    "data": {
                        "text/plain": [
                            "dict_keys(['data', 'target', 'frame', 'categories', 'feature_names', 'target_names', 'DESCR', 'details', 'url'])"
                        ]
                    },
                    "execution_count": 4,
                    "metadata": {},
                    "output_type": "execute_result"
                }
            ],
            "source": [
                "mnist = fetch_openml(name='mnist_784', version=1)\n",
                "mnist.keys()"
            ]
        },
        {
            "cell_type": "code",
            "execution_count": 5,
            "metadata": {},
            "outputs": [
                {
                    "data": {
                        "text/plain": [
                            "sklearn.utils.Bunch"
                        ]
                    },
                    "execution_count": 5,
                    "metadata": {},
                    "output_type": "execute_result"
                }
            ],
            "source": [
                "X, y = mnist['data'].to_numpy(), mnist['target'].to_numpy()\n",
                "X.shape, y.shape\n",
                "type(mnist)"
            ]
        },
        {
            "cell_type": "code",
            "execution_count": 6,
            "metadata": {},
            "outputs": [],
            "source": [
                "# X, y = X[:], y[:]\n",
                "# X.shape, y.shape"
            ]
        },
        {
            "cell_type": "code",
            "execution_count": 7,
            "metadata": {},
            "outputs": [
                {
                    "data": {
                        "text/plain": [
                            "numpy.ndarray"
                        ]
                    },
                    "execution_count": 7,
                    "metadata": {},
                    "output_type": "execute_result"
                }
            ],
            "source": [
                "type(X)"
            ]
        },
        {
            "cell_type": "code",
            "execution_count": 8,
            "metadata": {},
            "outputs": [
                {
                    "data": {
                        "text/plain": [
                            "((60000, 784), (60000,), (10000, 784), (10000,))"
                        ]
                    },
                    "execution_count": 8,
                    "metadata": {},
                    "output_type": "execute_result"
                }
            ],
            "source": [
                "# import matplotlib.pyplot as plt\n",
                "# import numpy as np\n",
                "\n",
                "# index = np.random.randint(0, len(X))\n",
                "# plt.imshow(X[index].reshape(28,28), cmap='gray')\n",
                "# plt.title(\"Label: {}\".format(y[index]))\n",
                "# plt.show()\n",
                "y = y.astype(np.int8)\n",
                "X_train, y_train, X_test, y_test = X[:60000], y[:60000], X[60000:], y[60000:]\n",
                "X_train.shape, y_train.shape, X_test.shape, y_test.shape"
            ]
        },
        {
            "cell_type": "code",
            "execution_count": 9,
            "metadata": {},
            "outputs": [
                {
                    "data": {
                        "image/png": "[encoded data removed]",
                        "text/plain": [
                            "\u003cFigure size 432x288 with 1 Axes\u003e"
                        ]
                    },
                    "metadata": {
                        "needs_background": "light"
                    },
                    "output_type": "display_data"
                }
            ],
            "source": [
                "some_digit = X[2]\n",
                "some_digit_image = some_digit.reshape(28, 28)\n",
                "plt.imshow(some_digit_image, cmap='binary')\n",
                "plt.axis('off')\n",
                "plt.show()\n",
                ""
            ]
        },
        {
            "cell_type": "code",
            "execution_count": 10,
            "metadata": {},
            "outputs": [],
            "source": [
                "y_train_even = (y_train % 2 == 0)\n",
                "y_test_even = (y_test % 2 == 0)\n",
                ""
            ]
        },
        {
            "cell_type": "code",
            "execution_count": 11,
            "metadata": {},
            "outputs": [
                {
                    "data": {
                        "text/plain": [
                            "SGDClassifier(n_jobs=-1, random_state=42)"
                        ]
                    },
                    "execution_count": 11,
                    "metadata": {},
                    "output_type": "execute_result"
                }
            ],
            "source": [
                "from sklearn.linear_model import SGDClassifier\n",
                "sgd_clf = SGDClassifier(n_jobs =-1,random_state=42)\n",
                "sgd_clf.fit(X_train, y_train_even)"
            ]
        },
        {
            "cell_type": "code",
            "execution_count": 12,
            "metadata": {},
            "outputs": [
                {
                    "data": {
                        "text/plain": [
                            "array([ True])"
                        ]
                    },
                    "execution_count": 12,
                    "metadata": {},
                    "output_type": "execute_result"
                }
            ],
            "source": [
                "sgd_clf.predict(X=[some_digit])"
            ]
        },
        {
            "cell_type": "code",
            "execution_count": 13,
            "metadata": {},
            "outputs": [],
            "source": [
                "from sklearn.model_selection import StratifiedKFold\n",
                "from sklearn.base import clone\n",
                ""
            ]
        },
        {
            "cell_type": "code",
            "execution_count": 16,
            "metadata": {},
            "outputs": [],
            "source": [
                "skfolds = StratifiedKFold(n_splits=3, random_state=42,shuffle = True)"
            ]
        },
        {
            "cell_type": "code",
            "execution_count": 19,
            "metadata": {},
            "outputs": [
                {
                    "name": "stdout",
                    "output_type": "stream",
                    "text": "0.8085\n0.8789\n0.8709\n"
                }
            ],
            "source": [
                "for train_index, test_index in skfolds.split(X=X_train, y=y_train_even):\n",
                "    clone_clf = clone(sgd_clf)\n",
                "    X_train_folds = X_train[train_index]\n",
                "    y_train_folds = y_train_even[train_index]\n",
                "    X_test_folds = X_train[test_index]\n",
                "    y_test_folds = y_train_even[test_index]\n",
                "    clone_clf.fit(X_train_folds, y_train_folds)\n",
                "    y_pred = clone_clf.predict(X_test_folds)\n",
                "    num_correct = sum(y_pred == y_test_folds)\n",
                "    print(num_correct / len(y_pred))"
            ]
        },
        {
            "cell_type": "code",
            "execution_count": 20,
            "metadata": {},
            "outputs": [],
            "source": [
                "from sklearn.metrics import f1_score"
            ]
        },
        {
            "cell_type": "code",
            "execution_count": 22,
            "metadata": {},
            "outputs": [
                {
                    "data": {
                        "text/plain": [
                            "(60000,)"
                        ]
                    },
                    "execution_count": 22,
                    "metadata": {},
                    "output_type": "execute_result"
                }
            ],
            "source": [
                "from sklearn.model_selection import cross_val_score\n",
                "scores = cross_val_score(estimator=clone(sgd_clf), X=X_train, y=y_train_even, cv=5, scoring=\"accuracy\", n_jobs=-1)\n",
                "from sklearn.model_selection import cross_val_predict\n",
                "y_train_pred = cross_val_predict(estimator=sgd_clf, X=X_train, y=y_train_even, cv=3, n_jobs=-1)\n",
                "y_train_pred.shape"
            ]
        },
        {
            "cell_type": "code",
            "execution_count": 23,
            "metadata": {},
            "outputs": [
                {
                    "data": {
                        "text/plain": [
                            "0.8018784755187848"
                        ]
                    },
                    "execution_count": 23,
                    "metadata": {},
                    "output_type": "execute_result"
                }
            ],
            "source": [
                "from sklearn.metrics import precision_score, recall_score\n",
                "precision_score(y_true=y_train_even, y_pred=y_train_pred)\n",
                "recall_score(y_true=y_train_even, y_pred=y_train_pred)"
            ]
        },
        {
            "cell_type": "code",
            "execution_count": 24,
            "metadata": {},
            "outputs": [
                {
                    "data": {
                        "text/plain": [
                            "0.8331806651634723"
                        ]
                    },
                    "execution_count": 24,
                    "metadata": {},
                    "output_type": "execute_result"
                }
            ],
            "source": [
                "from sklearn.metrics import f1_score\n",
                "f1_score(y_true=y_train_even, y_pred=y_train_pred)"
            ]
        },
        {
            "cell_type": "code",
            "execution_count": 0,
            "metadata": {},
            "outputs": [],
            "source": [
                ""
            ]
        },
        {
            "cell_type": "code",
            "execution_count": 0,
            "metadata": {},
            "outputs": [],
            "source": [
                ""
            ]
        }
    ]
}
